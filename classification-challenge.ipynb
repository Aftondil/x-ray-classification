{
 "cells": [
  {
   "cell_type": "code",
   "execution_count": 1,
   "metadata": {},
   "outputs": [],
   "source": [
    "import tensorflow as tf\n",
    "from tensorflow import keras\n",
    "from tensorflow.keras.models import Sequential\n",
    "from tensorflow.keras.preprocessing.image import ImageDataGenerator\n",
    "from tensorflow.keras.preprocessing import image\n",
    "from tensorflow.image import rgb_to_grayscale\n",
    "from sklearn.metrics import classification_report\n",
    "from sklearn.metrics import confusion_matrix\n",
    "from tensorflow.keras.optimizers import Adam\n",
    "\n",
    "from tensorflow.keras.callbacks import EarlyStopping\n",
    "from tensorflow.keras import layers\n",
    "\n",
    "import matplotlib.pyplot as plt\n",
    "import numpy\n",
    "\n",
    "import os\n",
    "import cv2"
   ]
  },
  {
   "cell_type": "code",
   "execution_count": 2,
   "metadata": {},
   "outputs": [
    {
     "name": "stdout",
     "output_type": "stream",
     "text": [
      "Found 190 images belonging to 3 classes.\n",
      "Found 61 images belonging to 3 classes.\n",
      "Found 66 images belonging to 3 classes.\n"
     ]
    }
   ],
   "source": [
    "# training_model = ImageDataGenerator(rescale=1/255, preprocessing_function=rgb_to_grayscale, validation_split=.25)\n",
    "test_model = ImageDataGenerator(rescale=1/255)\n",
    "# Example configuration\n",
    "training_model = ImageDataGenerator(rescale=1/255, validation_split=0.25)\n",
    "\n",
    "train_data = training_model.flow_from_directory('./Covid19-dataset/train', subset='training', class_mode='categorical', batch_size=16, color_mode='grayscale')\n",
    "val_data = training_model.flow_from_directory('./Covid19-dataset/train', subset='validation', class_mode='categorical', batch_size=16, color_mode='grayscale')\n",
    "\n",
    "\n",
    "# train_data = training_model.flow_from_directory('./Covid19-dataset/train', color_mode='grayscale', subset='training')\n",
    "# val_data = training_model.flow_from_directory('./Covid19-dataset/train', color_mode='grayscale', subset='validation')\n",
    "test_data = test_model.flow_from_directory('./Covid19-dataset/test', color_mode='grayscale', class_mode='categorical', batch_size=16)"
   ]
  },
  {
   "cell_type": "code",
   "execution_count": 3,
   "metadata": {},
   "outputs": [
    {
     "data": {
      "text/plain": [
       "(256, 256, 1)"
      ]
     },
     "execution_count": 3,
     "metadata": {},
     "output_type": "execute_result"
    }
   ],
   "source": [
    "test_data.image_shape"
   ]
  },
  {
   "cell_type": "code",
   "execution_count": 4,
   "metadata": {},
   "outputs": [
    {
     "data": {
      "text/plain": [
       "{'Covid': 0, 'Normal': 1, 'Pneumonia': 2}"
      ]
     },
     "execution_count": 4,
     "metadata": {},
     "output_type": "execute_result"
    }
   ],
   "source": [
    "train_data.class_indices"
   ]
  },
  {
   "cell_type": "code",
   "execution_count": 3,
   "metadata": {},
   "outputs": [],
   "source": [
    "gpus = tf.config.experimental.list_physical_devices('GPU')\n",
    "for gpu in gpus:\n",
    "    tf.config.experimental.set_memory_growth(gpu, True)"
   ]
  },
  {
   "cell_type": "code",
   "execution_count": 4,
   "metadata": {},
   "outputs": [],
   "source": [
    "from tensorflow.keras.layers import Conv2D, MaxPooling2D, Flatten, Dense, InputLayer"
   ]
  },
  {
   "cell_type": "code",
   "execution_count": 5,
   "metadata": {},
   "outputs": [],
   "source": [
    "log = 'logs/'\n",
    "callback = tf.keras.callbacks.TensorBoard(log_dir=log)"
   ]
  },
  {
   "cell_type": "code",
   "execution_count": 20,
   "metadata": {},
   "outputs": [],
   "source": [
    "model = Sequential()"
   ]
  },
  {
   "cell_type": "code",
   "execution_count": 21,
   "metadata": {},
   "outputs": [],
   "source": [
    "model.add(InputLayer(input_shape=(256, 256, 1)))"
   ]
  },
  {
   "cell_type": "code",
   "execution_count": 22,
   "metadata": {},
   "outputs": [],
   "source": [
    "model.add(Conv2D(32, 3, 1, activation='relu'))\n",
    "model.add(MaxPooling2D())"
   ]
  },
  {
   "cell_type": "code",
   "execution_count": 23,
   "metadata": {},
   "outputs": [],
   "source": [
    "model.add(Conv2D(128, 3, 1, activation='relu'))\n",
    "model.add(MaxPooling2D())"
   ]
  },
  {
   "cell_type": "code",
   "execution_count": 24,
   "metadata": {},
   "outputs": [],
   "source": [
    "model.add(Conv2D(64, 3, 1, activation='relu'))\n",
    "model.add(MaxPooling2D())"
   ]
  },
  {
   "cell_type": "code",
   "execution_count": 25,
   "metadata": {},
   "outputs": [],
   "source": [
    "model.add(Conv2D(32, 3, 1, activation='relu'))\n",
    "model.add(MaxPooling2D())"
   ]
  },
  {
   "cell_type": "code",
   "execution_count": 19,
   "metadata": {},
   "outputs": [],
   "source": [
    "# model.add(Conv2D(16, 3, 1, activation='relu'))\n",
    "# model.add(MaxPooling2D())"
   ]
  },
  {
   "cell_type": "code",
   "execution_count": 95,
   "metadata": {},
   "outputs": [],
   "source": [
    "# model.add(Conv2D(128, 3, 1, activation='relu'))\n",
    "# model.add(MaxPooling2D())"
   ]
  },
  {
   "cell_type": "code",
   "execution_count": null,
   "metadata": {},
   "outputs": [],
   "source": []
  },
  {
   "cell_type": "code",
   "execution_count": 26,
   "metadata": {},
   "outputs": [],
   "source": [
    "model.add(Flatten())"
   ]
  },
  {
   "cell_type": "code",
   "execution_count": 27,
   "metadata": {},
   "outputs": [],
   "source": [
    "# model.add(Dense(512, activation='relu'))\n",
    "model.add(Dense(256, activation='relu'))\n",
    "model.add(Dense(3, activation='softmax'))"
   ]
  },
  {
   "cell_type": "code",
   "execution_count": 28,
   "metadata": {},
   "outputs": [],
   "source": [
    "model.compile(loss='categorical_crossentropy', optimizer=Adam(learning_rate=0.0001), metrics=['accuracy'])"
   ]
  },
  {
   "cell_type": "code",
   "execution_count": 29,
   "metadata": {},
   "outputs": [
    {
     "name": "stdout",
     "output_type": "stream",
     "text": [
      "Model: \"sequential_1\"\n",
      "_________________________________________________________________\n",
      "Layer (type)                 Output Shape              Param #   \n",
      "=================================================================\n",
      "conv2d_5 (Conv2D)            (None, 254, 254, 32)      320       \n",
      "_________________________________________________________________\n",
      "max_pooling2d_5 (MaxPooling2 (None, 127, 127, 32)      0         \n",
      "_________________________________________________________________\n",
      "conv2d_6 (Conv2D)            (None, 125, 125, 128)     36992     \n",
      "_________________________________________________________________\n",
      "max_pooling2d_6 (MaxPooling2 (None, 62, 62, 128)       0         \n",
      "_________________________________________________________________\n",
      "conv2d_7 (Conv2D)            (None, 60, 60, 64)        73792     \n",
      "_________________________________________________________________\n",
      "max_pooling2d_7 (MaxPooling2 (None, 30, 30, 64)        0         \n",
      "_________________________________________________________________\n",
      "conv2d_8 (Conv2D)            (None, 28, 28, 32)        18464     \n",
      "_________________________________________________________________\n",
      "max_pooling2d_8 (MaxPooling2 (None, 14, 14, 32)        0         \n",
      "_________________________________________________________________\n",
      "flatten_1 (Flatten)          (None, 6272)              0         \n",
      "_________________________________________________________________\n",
      "dense_2 (Dense)              (None, 256)               1605888   \n",
      "_________________________________________________________________\n",
      "dense_3 (Dense)              (None, 3)                 771       \n",
      "=================================================================\n",
      "Total params: 1,736,227\n",
      "Trainable params: 1,736,227\n",
      "Non-trainable params: 0\n",
      "_________________________________________________________________\n"
     ]
    }
   ],
   "source": [
    "model.summary()"
   ]
  },
  {
   "cell_type": "code",
   "execution_count": 30,
   "metadata": {},
   "outputs": [
    {
     "name": "stdout",
     "output_type": "stream",
     "text": [
      "Epoch 1/100\n",
      "12/12 [==============================] - 2s 112ms/step - loss: 1.0737 - accuracy: 0.4368 - val_loss: 1.0239 - val_accuracy: 0.4426\n",
      "Epoch 2/100\n",
      "12/12 [==============================] - 1s 41ms/step - loss: 0.9868 - accuracy: 0.5211 - val_loss: 0.8936 - val_accuracy: 0.8197\n",
      "Epoch 3/100\n",
      "12/12 [==============================] - 1s 42ms/step - loss: 0.8173 - accuracy: 0.7368 - val_loss: 0.6411 - val_accuracy: 0.8525\n",
      "Epoch 4/100\n",
      "12/12 [==============================] - 1s 42ms/step - loss: 0.5839 - accuracy: 0.8211 - val_loss: 0.3943 - val_accuracy: 0.9180\n",
      "Epoch 5/100\n",
      "12/12 [==============================] - 1s 42ms/step - loss: 0.3667 - accuracy: 0.8737 - val_loss: 0.4098 - val_accuracy: 0.7869\n",
      "Epoch 6/100\n",
      "12/12 [==============================] - 1s 42ms/step - loss: 0.3251 - accuracy: 0.8684 - val_loss: 0.2296 - val_accuracy: 0.9344\n",
      "Epoch 7/100\n",
      "12/12 [==============================] - 1s 41ms/step - loss: 0.2344 - accuracy: 0.9263 - val_loss: 0.2139 - val_accuracy: 0.9180\n",
      "Epoch 8/100\n",
      "12/12 [==============================] - 1s 41ms/step - loss: 0.1929 - accuracy: 0.9316 - val_loss: 0.1699 - val_accuracy: 0.9180\n",
      "Epoch 9/100\n",
      "12/12 [==============================] - 1s 41ms/step - loss: 0.1894 - accuracy: 0.9158 - val_loss: 0.1519 - val_accuracy: 0.9180\n",
      "Epoch 10/100\n",
      "12/12 [==============================] - 1s 41ms/step - loss: 0.1831 - accuracy: 0.9263 - val_loss: 0.1423 - val_accuracy: 0.9344\n",
      "Epoch 11/100\n",
      "12/12 [==============================] - 1s 42ms/step - loss: 0.1425 - accuracy: 0.9526 - val_loss: 0.1355 - val_accuracy: 0.9344\n",
      "Epoch 12/100\n",
      "12/12 [==============================] - 1s 42ms/step - loss: 0.1581 - accuracy: 0.9316 - val_loss: 0.1477 - val_accuracy: 0.9508\n",
      "Epoch 13/100\n",
      "12/12 [==============================] - 1s 42ms/step - loss: 0.1261 - accuracy: 0.9632 - val_loss: 0.1833 - val_accuracy: 0.9016\n",
      "Epoch 14/100\n",
      "12/12 [==============================] - 1s 42ms/step - loss: 0.1275 - accuracy: 0.9579 - val_loss: 0.1775 - val_accuracy: 0.9180\n",
      "Epoch 15/100\n",
      "12/12 [==============================] - 1s 43ms/step - loss: 0.0987 - accuracy: 0.9684 - val_loss: 0.1365 - val_accuracy: 0.9344\n",
      "Epoch 16/100\n",
      "12/12 [==============================] - 1s 42ms/step - loss: 0.0838 - accuracy: 0.9737 - val_loss: 0.1026 - val_accuracy: 0.9344\n",
      "Epoch 17/100\n",
      "12/12 [==============================] - 1s 42ms/step - loss: 0.1304 - accuracy: 0.9526 - val_loss: 0.1058 - val_accuracy: 0.9672\n",
      "Epoch 18/100\n",
      "12/12 [==============================] - 1s 42ms/step - loss: 0.1039 - accuracy: 0.9579 - val_loss: 0.1773 - val_accuracy: 0.9180\n",
      "Epoch 19/100\n",
      "12/12 [==============================] - 1s 42ms/step - loss: 0.0783 - accuracy: 0.9737 - val_loss: 0.1822 - val_accuracy: 0.9016\n",
      "Epoch 20/100\n",
      "12/12 [==============================] - 1s 42ms/step - loss: 0.0698 - accuracy: 0.9789 - val_loss: 0.1565 - val_accuracy: 0.9344\n",
      "Epoch 21/100\n",
      "12/12 [==============================] - 1s 42ms/step - loss: 0.0587 - accuracy: 0.9789 - val_loss: 0.1490 - val_accuracy: 0.9344\n",
      "Epoch 22/100\n",
      "12/12 [==============================] - 1s 42ms/step - loss: 0.0473 - accuracy: 0.9842 - val_loss: 0.0935 - val_accuracy: 0.9672\n",
      "Epoch 23/100\n",
      "12/12 [==============================] - 1s 42ms/step - loss: 0.0388 - accuracy: 0.9895 - val_loss: 0.0928 - val_accuracy: 0.9508\n",
      "Epoch 24/100\n",
      "12/12 [==============================] - 1s 42ms/step - loss: 0.0261 - accuracy: 0.9947 - val_loss: 0.1479 - val_accuracy: 0.9344\n",
      "Epoch 25/100\n",
      "12/12 [==============================] - 1s 42ms/step - loss: 0.0302 - accuracy: 0.9947 - val_loss: 0.0795 - val_accuracy: 0.9672\n",
      "Epoch 26/100\n",
      "12/12 [==============================] - 1s 42ms/step - loss: 0.0329 - accuracy: 0.9947 - val_loss: 0.0514 - val_accuracy: 0.9836\n",
      "Epoch 27/100\n",
      "12/12 [==============================] - 1s 42ms/step - loss: 0.0259 - accuracy: 0.9947 - val_loss: 0.1630 - val_accuracy: 0.9344\n",
      "Epoch 28/100\n",
      "12/12 [==============================] - 1s 42ms/step - loss: 0.0215 - accuracy: 0.9947 - val_loss: 0.0933 - val_accuracy: 0.9508\n",
      "Epoch 29/100\n",
      "12/12 [==============================] - 1s 43ms/step - loss: 0.0114 - accuracy: 1.0000 - val_loss: 0.0998 - val_accuracy: 0.9672\n",
      "Epoch 30/100\n",
      "12/12 [==============================] - 1s 42ms/step - loss: 0.0105 - accuracy: 1.0000 - val_loss: 0.1155 - val_accuracy: 0.9672\n",
      "Epoch 31/100\n",
      "12/12 [==============================] - 1s 43ms/step - loss: 0.0117 - accuracy: 1.0000 - val_loss: 0.1058 - val_accuracy: 0.9508\n",
      "Epoch 32/100\n",
      "12/12 [==============================] - 1s 42ms/step - loss: 0.0221 - accuracy: 0.9947 - val_loss: 0.1700 - val_accuracy: 0.9508\n",
      "Epoch 33/100\n",
      "12/12 [==============================] - 1s 43ms/step - loss: 0.0254 - accuracy: 1.0000 - val_loss: 0.2034 - val_accuracy: 0.9344\n",
      "Epoch 34/100\n",
      "12/12 [==============================] - 1s 42ms/step - loss: 0.0247 - accuracy: 0.9947 - val_loss: 0.0874 - val_accuracy: 0.9508\n",
      "Epoch 35/100\n",
      "12/12 [==============================] - 1s 43ms/step - loss: 0.0082 - accuracy: 1.0000 - val_loss: 0.1150 - val_accuracy: 0.9672\n",
      "Epoch 36/100\n",
      "12/12 [==============================] - 1s 42ms/step - loss: 0.0043 - accuracy: 1.0000 - val_loss: 0.0671 - val_accuracy: 0.9672\n",
      "Epoch 37/100\n",
      "12/12 [==============================] - 1s 42ms/step - loss: 0.0044 - accuracy: 1.0000 - val_loss: 0.1104 - val_accuracy: 0.9672\n",
      "Epoch 38/100\n",
      "12/12 [==============================] - 1s 42ms/step - loss: 0.0038 - accuracy: 1.0000 - val_loss: 0.0864 - val_accuracy: 0.9672\n",
      "Epoch 39/100\n",
      "12/12 [==============================] - 1s 43ms/step - loss: 0.0031 - accuracy: 1.0000 - val_loss: 0.0951 - val_accuracy: 0.9672\n",
      "Epoch 40/100\n",
      "12/12 [==============================] - 1s 42ms/step - loss: 0.0029 - accuracy: 1.0000 - val_loss: 0.0941 - val_accuracy: 0.9672\n",
      "Epoch 41/100\n",
      "12/12 [==============================] - 1s 42ms/step - loss: 0.0027 - accuracy: 1.0000 - val_loss: 0.0897 - val_accuracy: 0.9672\n",
      "Epoch 42/100\n",
      "12/12 [==============================] - 1s 43ms/step - loss: 0.0023 - accuracy: 1.0000 - val_loss: 0.0921 - val_accuracy: 0.9672\n",
      "Epoch 43/100\n",
      "12/12 [==============================] - 1s 42ms/step - loss: 0.0021 - accuracy: 1.0000 - val_loss: 0.0813 - val_accuracy: 0.9672\n",
      "Epoch 44/100\n",
      "12/12 [==============================] - 1s 42ms/step - loss: 0.0020 - accuracy: 1.0000 - val_loss: 0.1027 - val_accuracy: 0.9672\n",
      "Epoch 45/100\n",
      "12/12 [==============================] - 1s 43ms/step - loss: 0.0017 - accuracy: 1.0000 - val_loss: 0.0994 - val_accuracy: 0.9672\n",
      "Epoch 46/100\n",
      "12/12 [==============================] - 1s 42ms/step - loss: 0.0016 - accuracy: 1.0000 - val_loss: 0.0832 - val_accuracy: 0.9672\n",
      "Epoch 47/100\n",
      "12/12 [==============================] - 1s 42ms/step - loss: 0.0015 - accuracy: 1.0000 - val_loss: 0.0964 - val_accuracy: 0.9672\n",
      "Epoch 48/100\n",
      "12/12 [==============================] - 1s 43ms/step - loss: 0.0015 - accuracy: 1.0000 - val_loss: 0.0886 - val_accuracy: 0.9672\n",
      "Epoch 49/100\n",
      "12/12 [==============================] - 1s 42ms/step - loss: 0.0014 - accuracy: 1.0000 - val_loss: 0.0921 - val_accuracy: 0.9672\n",
      "Epoch 50/100\n",
      "12/12 [==============================] - 1s 42ms/step - loss: 0.0012 - accuracy: 1.0000 - val_loss: 0.0795 - val_accuracy: 0.9672\n",
      "Epoch 51/100\n",
      "12/12 [==============================] - 1s 42ms/step - loss: 0.0011 - accuracy: 1.0000 - val_loss: 0.0960 - val_accuracy: 0.9672\n",
      "Epoch 52/100\n",
      "12/12 [==============================] - 1s 43ms/step - loss: 0.0011 - accuracy: 1.0000 - val_loss: 0.0937 - val_accuracy: 0.9672\n",
      "Epoch 53/100\n",
      "12/12 [==============================] - 1s 42ms/step - loss: 9.3513e-04 - accuracy: 1.0000 - val_loss: 0.0838 - val_accuracy: 0.9672\n",
      "Epoch 54/100\n",
      "12/12 [==============================] - 1s 42ms/step - loss: 9.3535e-04 - accuracy: 1.0000 - val_loss: 0.0910 - val_accuracy: 0.9672\n",
      "Epoch 55/100\n",
      "12/12 [==============================] - 1s 43ms/step - loss: 8.7283e-04 - accuracy: 1.0000 - val_loss: 0.0921 - val_accuracy: 0.9672\n",
      "Epoch 56/100\n",
      "12/12 [==============================] - 1s 43ms/step - loss: 8.1449e-04 - accuracy: 1.0000 - val_loss: 0.0934 - val_accuracy: 0.9672\n",
      "Epoch 57/100\n",
      "12/12 [==============================] - 1s 43ms/step - loss: 7.8734e-04 - accuracy: 1.0000 - val_loss: 0.0876 - val_accuracy: 0.9672\n",
      "Epoch 58/100\n",
      "12/12 [==============================] - 1s 42ms/step - loss: 7.9358e-04 - accuracy: 1.0000 - val_loss: 0.0993 - val_accuracy: 0.9672\n",
      "Epoch 59/100\n",
      "12/12 [==============================] - 1s 42ms/step - loss: 6.9417e-04 - accuracy: 1.0000 - val_loss: 0.0815 - val_accuracy: 0.9672\n",
      "Epoch 60/100\n",
      "12/12 [==============================] - 1s 43ms/step - loss: 6.7161e-04 - accuracy: 1.0000 - val_loss: 0.0921 - val_accuracy: 0.9672\n",
      "Epoch 61/100\n",
      "12/12 [==============================] - 1s 43ms/step - loss: 6.4058e-04 - accuracy: 1.0000 - val_loss: 0.0957 - val_accuracy: 0.9672\n",
      "Epoch 62/100\n",
      "12/12 [==============================] - 1s 43ms/step - loss: 5.9514e-04 - accuracy: 1.0000 - val_loss: 0.0938 - val_accuracy: 0.9672\n",
      "Epoch 63/100\n",
      "12/12 [==============================] - 1s 43ms/step - loss: 5.7108e-04 - accuracy: 1.0000 - val_loss: 0.0872 - val_accuracy: 0.9672\n",
      "Epoch 64/100\n",
      "12/12 [==============================] - 1s 42ms/step - loss: 5.5326e-04 - accuracy: 1.0000 - val_loss: 0.1002 - val_accuracy: 0.9672\n",
      "Epoch 65/100\n",
      "12/12 [==============================] - 1s 42ms/step - loss: 5.2631e-04 - accuracy: 1.0000 - val_loss: 0.0888 - val_accuracy: 0.9672\n",
      "Epoch 66/100\n",
      "12/12 [==============================] - 1s 43ms/step - loss: 5.0102e-04 - accuracy: 1.0000 - val_loss: 0.0893 - val_accuracy: 0.9672\n",
      "Epoch 67/100\n",
      "12/12 [==============================] - 1s 42ms/step - loss: 4.7107e-04 - accuracy: 1.0000 - val_loss: 0.1007 - val_accuracy: 0.9672\n",
      "Epoch 68/100\n",
      "12/12 [==============================] - 1s 42ms/step - loss: 4.4953e-04 - accuracy: 1.0000 - val_loss: 0.0919 - val_accuracy: 0.9672\n",
      "Epoch 69/100\n",
      "12/12 [==============================] - 1s 42ms/step - loss: 4.2753e-04 - accuracy: 1.0000 - val_loss: 0.0937 - val_accuracy: 0.9672\n",
      "Epoch 70/100\n",
      "12/12 [==============================] - 1s 42ms/step - loss: 4.1389e-04 - accuracy: 1.0000 - val_loss: 0.0994 - val_accuracy: 0.9672\n",
      "Epoch 71/100\n",
      "12/12 [==============================] - 1s 42ms/step - loss: 3.9990e-04 - accuracy: 1.0000 - val_loss: 0.0944 - val_accuracy: 0.9672\n",
      "Epoch 72/100\n",
      "12/12 [==============================] - 1s 42ms/step - loss: 3.7680e-04 - accuracy: 1.0000 - val_loss: 0.0958 - val_accuracy: 0.9672\n",
      "Epoch 73/100\n",
      "12/12 [==============================] - 1s 42ms/step - loss: 3.8437e-04 - accuracy: 1.0000 - val_loss: 0.0922 - val_accuracy: 0.9672\n",
      "Epoch 74/100\n",
      "12/12 [==============================] - 1s 42ms/step - loss: 3.6935e-04 - accuracy: 1.0000 - val_loss: 0.0984 - val_accuracy: 0.9672\n",
      "Epoch 75/100\n",
      "12/12 [==============================] - 1s 42ms/step - loss: 3.3547e-04 - accuracy: 1.0000 - val_loss: 0.0925 - val_accuracy: 0.9672\n",
      "Epoch 76/100\n",
      "12/12 [==============================] - 1s 42ms/step - loss: 3.0883e-04 - accuracy: 1.0000 - val_loss: 0.0981 - val_accuracy: 0.9672\n",
      "Epoch 77/100\n",
      "12/12 [==============================] - 1s 42ms/step - loss: 2.9486e-04 - accuracy: 1.0000 - val_loss: 0.0978 - val_accuracy: 0.9672\n",
      "Epoch 78/100\n",
      "12/12 [==============================] - 1s 42ms/step - loss: 2.8291e-04 - accuracy: 1.0000 - val_loss: 0.0985 - val_accuracy: 0.9672\n",
      "Epoch 79/100\n",
      "12/12 [==============================] - 1s 42ms/step - loss: 2.7006e-04 - accuracy: 1.0000 - val_loss: 0.0941 - val_accuracy: 0.9672\n",
      "Epoch 80/100\n",
      "12/12 [==============================] - 1s 42ms/step - loss: 2.5912e-04 - accuracy: 1.0000 - val_loss: 0.0929 - val_accuracy: 0.9672\n",
      "Epoch 81/100\n",
      "12/12 [==============================] - 1s 42ms/step - loss: 2.4942e-04 - accuracy: 1.0000 - val_loss: 0.1004 - val_accuracy: 0.9672\n",
      "Epoch 82/100\n",
      "12/12 [==============================] - 1s 42ms/step - loss: 2.3132e-04 - accuracy: 1.0000 - val_loss: 0.0956 - val_accuracy: 0.9672\n",
      "Epoch 83/100\n",
      "12/12 [==============================] - 1s 42ms/step - loss: 2.3182e-04 - accuracy: 1.0000 - val_loss: 0.0892 - val_accuracy: 0.9672\n",
      "Epoch 84/100\n",
      "12/12 [==============================] - 1s 42ms/step - loss: 2.1519e-04 - accuracy: 1.0000 - val_loss: 0.0975 - val_accuracy: 0.9672\n",
      "Epoch 85/100\n",
      "12/12 [==============================] - 1s 42ms/step - loss: 2.0869e-04 - accuracy: 1.0000 - val_loss: 0.1034 - val_accuracy: 0.9672\n",
      "Epoch 86/100\n",
      "12/12 [==============================] - 1s 42ms/step - loss: 2.0076e-04 - accuracy: 1.0000 - val_loss: 0.0981 - val_accuracy: 0.9672\n",
      "Epoch 87/100\n",
      "12/12 [==============================] - 1s 42ms/step - loss: 1.9584e-04 - accuracy: 1.0000 - val_loss: 0.1004 - val_accuracy: 0.9672\n",
      "Epoch 88/100\n",
      "12/12 [==============================] - 1s 42ms/step - loss: 1.9341e-04 - accuracy: 1.0000 - val_loss: 0.0924 - val_accuracy: 0.9672\n",
      "Epoch 89/100\n",
      "12/12 [==============================] - 1s 42ms/step - loss: 1.7320e-04 - accuracy: 1.0000 - val_loss: 0.1011 - val_accuracy: 0.9672\n",
      "Epoch 90/100\n",
      "12/12 [==============================] - 1s 42ms/step - loss: 1.6885e-04 - accuracy: 1.0000 - val_loss: 0.1017 - val_accuracy: 0.9672\n",
      "Epoch 91/100\n",
      "12/12 [==============================] - 1s 42ms/step - loss: 1.6823e-04 - accuracy: 1.0000 - val_loss: 0.0990 - val_accuracy: 0.9672\n",
      "Epoch 92/100\n",
      "12/12 [==============================] - 1s 42ms/step - loss: 1.5715e-04 - accuracy: 1.0000 - val_loss: 0.0985 - val_accuracy: 0.9672\n",
      "Epoch 93/100\n",
      "12/12 [==============================] - 1s 42ms/step - loss: 1.5862e-04 - accuracy: 1.0000 - val_loss: 0.0919 - val_accuracy: 0.9672\n",
      "Epoch 94/100\n",
      "12/12 [==============================] - 1s 42ms/step - loss: 1.4709e-04 - accuracy: 1.0000 - val_loss: 0.0997 - val_accuracy: 0.9672\n",
      "Epoch 95/100\n",
      "12/12 [==============================] - 1s 43ms/step - loss: 1.4259e-04 - accuracy: 1.0000 - val_loss: 0.1044 - val_accuracy: 0.9672\n",
      "Epoch 96/100\n",
      "12/12 [==============================] - 1s 42ms/step - loss: 1.3477e-04 - accuracy: 1.0000 - val_loss: 0.0992 - val_accuracy: 0.9672\n",
      "Epoch 97/100\n",
      "12/12 [==============================] - 1s 42ms/step - loss: 1.3068e-04 - accuracy: 1.0000 - val_loss: 0.0967 - val_accuracy: 0.9672\n",
      "Epoch 98/100\n",
      "12/12 [==============================] - 1s 42ms/step - loss: 1.2896e-04 - accuracy: 1.0000 - val_loss: 0.1002 - val_accuracy: 0.9672\n",
      "Epoch 99/100\n",
      "12/12 [==============================] - 1s 43ms/step - loss: 1.2346e-04 - accuracy: 1.0000 - val_loss: 0.0997 - val_accuracy: 0.9672\n",
      "Epoch 100/100\n",
      "12/12 [==============================] - 1s 42ms/step - loss: 1.1837e-04 - accuracy: 1.0000 - val_loss: 0.0978 - val_accuracy: 0.9672\n"
     ]
    }
   ],
   "source": [
    "hist = model.fit(train_data, epochs=100, validation_data=val_data, callbacks=[callback])"
   ]
  },
  {
   "cell_type": "code",
   "execution_count": 31,
   "metadata": {},
   "outputs": [
    {
     "data": {
      "image/png": "[encoded data removed]",
      "text/plain": [
       "<Figure size 640x480 with 1 Axes>"
      ]
     },
     "metadata": {},
     "output_type": "display_data"
    }
   ],
   "source": [
    "fig = plt.figure()\n",
    "plt.plot(hist.history['loss'], color='teal', label='loss')\n",
    "plt.plot(hist.history['val_loss'], color='orange', label='val_loss')\n",
    "fig.suptitle('Loss')\n",
    "fig.legend(loc='upper left')\n",
    "plt.show()"
   ]
  },
  {
   "cell_type": "code",
   "execution_count": null,
   "metadata": {},
   "outputs": [],
   "source": []
  },
  {
   "cell_type": "code",
   "execution_count": null,
   "metadata": {},
   "outputs": [],
   "source": []
  },
  {
   "cell_type": "code",
   "execution_count": null,
   "metadata": {},
   "outputs": [],
   "source": []
  },
  {
   "cell_type": "code",
   "execution_count": null,
   "metadata": {},
   "outputs": [],
   "source": []
  },
  {
   "cell_type": "code",
   "execution_count": null,
   "metadata": {},
   "outputs": [],
   "source": []
  },
  {
   "cell_type": "code",
   "execution_count": null,
   "metadata": {},
   "outputs": [],
   "source": []
  },
  {
   "cell_type": "code",
   "execution_count": null,
   "metadata": {},
   "outputs": [],
   "source": []
  }
 ],
 "metadata": {
  "kernelspec": {
   "display_name": "Python 3 (ipykernel)",
   "language": "python",
   "name": "python3"
  },
  "language_info": {
   "codemirror_mode": {
    "name": "ipython",
    "version": 3
   },
   "file_extension": ".py",
   "mimetype": "text/x-python",
   "name": "python",
   "nbconvert_exporter": "python",
   "pygments_lexer": "ipython3",
   "version": "3.9.18"
  }
 },
 "nbformat": 4,
 "nbformat_minor": 4
}
